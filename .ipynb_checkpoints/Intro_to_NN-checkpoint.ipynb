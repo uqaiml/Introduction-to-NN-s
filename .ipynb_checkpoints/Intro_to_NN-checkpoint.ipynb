{
 "cells": [
  {
   "cell_type": "markdown",
   "metadata": {},
   "source": [
    "# Introduction to Neural Networks with PyTorch"
   ]
  },
  {
   "cell_type": "markdown",
   "metadata": {},
   "source": [
    "### Typical workflow\n",
    "Define Dataset, Dataloader -> Define Model -> Train -> Predict"
   ]
  },
  {
   "cell_type": "markdown",
   "metadata": {},
   "source": [
    "## Dataset and Dataloader"
   ]
  },
  {
   "cell_type": "code",
   "execution_count": 106,
   "metadata": {},
   "outputs": [],
   "source": [
    "import torch\n",
    "from torchvision import datasets\n",
    "import torchvision.transforms as tf\n",
    "\n",
    "train_dataset = datasets.MNIST('./data', train=True, download=True, transform=tf.ToTensor())\n",
    "test_dataset = datasets.MNIST('./data', train=False, download=True, transform=tf.ToTensor())"
   ]
  },
  {
   "cell_type": "markdown",
   "metadata": {},
   "source": [
    "#### Dataset stores the samples and their corresponding labels while DataLoader wraps an iterable around the dataset\n",
    "\n",
    "- Batch size = number of datasamples propogated before parameters are updated"
   ]
  },
  {
   "cell_type": "code",
   "execution_count": 107,
   "metadata": {},
   "outputs": [],
   "source": [
    "from torch.utils.data import DataLoader\n",
    "\n",
    "train_dl = DataLoader(train_dataset, batch_size=64, shuffle=True)\n",
    "test_dl = DataLoader(test_dataset, batch_size=64, shuffle=True)"
   ]
  },
  {
   "cell_type": "code",
   "execution_count": 108,
   "metadata": {},
   "outputs": [
    {
     "name": "stdout",
     "output_type": "stream",
     "text": [
      "torch.Size([64, 1, 28, 28]) torch.Size([64])\n"
     ]
    }
   ],
   "source": [
    "# Using the dataloader\n",
    "\n",
    "loader = enumerate(train_dl)\n",
    "batch, (x,y) = next(loader)\n",
    "print(x.shape, y.shape)"
   ]
  },
  {
   "cell_type": "code",
   "execution_count": 109,
   "metadata": {},
   "outputs": [
    {
     "data": {
      "image/png": "[encoded data removed]",
      "text/plain": [
       "<Figure size 432x288 with 1 Axes>"
      ]
     },
     "metadata": {
      "needs_background": "light"
     },
     "output_type": "display_data"
    },
    {
     "name": "stdout",
     "output_type": "stream",
     "text": [
      "tensor(5)\n"
     ]
    }
   ],
   "source": [
    "import matplotlib.pyplot as plt\n",
    "plt.imshow(x[0][0], cmap='gray')\n",
    "plt.show()\n",
    "print(y[0])"
   ]
  },
  {
   "cell_type": "markdown",
   "metadata": {},
   "source": [
    "### Model (MLP)\n",
    "- Model does not return probabilities in this case"
   ]
  },
  {
   "cell_type": "code",
   "execution_count": 110,
   "metadata": {},
   "outputs": [],
   "source": [
    "import torch.nn as nn\n",
    "\n",
    "class MLP(nn.Module):\n",
    "    def __init__(self):\n",
    "        super(MLP, self).__init__()\n",
    "        self.fc1 = nn.Linear(28*28, 512)\n",
    "        self.relu = nn.ReLU()\n",
    "        self.fc2 = nn.Linear(512, 1024)\n",
    "        self.fc3 = nn.Linear(1024, 10)\n",
    "        self.flatten = nn.Flatten()\n",
    "        self.sigmoid = nn.Sigmoid()\n",
    "        \n",
    "    def forward(self, x):\n",
    "        x = self.flatten(x)\n",
    "        x = self.fc1(x)\n",
    "        x = self.relu(x)\n",
    "        x = self.fc2(x)\n",
    "        x = self.relu(x)\n",
    "        x = self.fc3(x)\n",
    "        x = self.sigmoid(x)\n",
    "        return x"
   ]
  },
  {
   "cell_type": "code",
   "execution_count": 111,
   "metadata": {},
   "outputs": [
    {
     "name": "stdout",
     "output_type": "stream",
     "text": [
      "torch.Size([1, 10]) tensor([[0.4927, 0.4840, 0.4635, 0.4743, 0.4793, 0.5072, 0.4866, 0.5058, 0.5223,\n",
      "         0.4762]])\n",
      "tensor([8])\n"
     ]
    }
   ],
   "source": [
    "# Looking at models outputs using a random input tensor\n",
    "def test():\n",
    "    model = MLP()\n",
    "    x = torch.randn(1, 1, 28, 28)\n",
    "    with torch.no_grad():\n",
    "        y = model(x)\n",
    "    print(y.shape, y)\n",
    "    \n",
    "    # evaluating probabilites\n",
    "    print(y.argmax(1))\n",
    "    \n",
    "test()"
   ]
  },
  {
   "cell_type": "markdown",
   "metadata": {},
   "source": [
    "## Training the model\n",
    "\n",
    "#### Hyperparameters\n",
    "- adjustable params that you control optimisation process\n",
    "\n",
    "- Epochs = number of times to iterate over dataset\n",
    "- Learning Rate= how much to update the model paramters at each epoch"
   ]
  },
  {
   "cell_type": "code",
   "execution_count": 112,
   "metadata": {},
   "outputs": [],
   "source": [
    "LR = 1e-3\n",
    "EPOCHS = 5\n",
    "loss_fn = nn.CrossEntropyLoss()\n",
    "model = MLP()\n",
    "optimizer = optimizer = torch.optim.Adam(model.parameters(), lr=LR)\n",
    "DEVICE = 'cpu'"
   ]
  },
  {
   "cell_type": "code",
   "execution_count": 113,
   "metadata": {},
   "outputs": [],
   "source": [
    "def train_loop(dataloader, model, loss_fn, optimizer):\n",
    "    size = len(dataloader.dataset)\n",
    "    for batch, (X, y) in enumerate(dataloader):\n",
    "        X = X.to(device=DEVICE)\n",
    "        y = y.to(device=DEVICE)\n",
    "        #compute prediction and loss\n",
    "        pred = model(X)\n",
    "        loss = loss_fn(pred, y)\n",
    "        \n",
    "        # backpropogation\n",
    "        optimizer.zero_grad()\n",
    "        loss.backward()\n",
    "        optimizer.step()\n",
    "        \n",
    "        if batch%200 ==0:\n",
    "            loss, current = loss.item(), batch*len(X)\n",
    "            print(f\"loss: {loss:>7f}  [{current:>5d}/{size:>5d}]\")\n",
    "            \n",
    "def test_loop(dataloader, model, loss_fn):\n",
    "    size = len(dataloader.dataset)\n",
    "    num_batches = len(dataloader)\n",
    "    test_loss, correct = 0, 0\n",
    "\n",
    "    with torch.no_grad():\n",
    "        for X, y in dataloader:\n",
    "            X = X.to(device=DEVICE)\n",
    "            y = y.to(device=DEVICE)\n",
    "            \n",
    "            pred = model(X)\n",
    "            test_loss += loss_fn(pred, y).item()\n",
    "            correct += (pred.argmax(1) == y).type(torch.float).sum().item()\n",
    "\n",
    "    test_loss /= num_batches\n",
    "    correct /= size\n",
    "    print(f\"Test Error: \\n Accuracy: {(100*correct):>0.1f}%, Avg loss: {test_loss:>8f} \\n\")"
   ]
  },
  {
   "cell_type": "code",
   "execution_count": 114,
   "metadata": {
    "scrolled": false
   },
   "outputs": [
    {
     "name": "stdout",
     "output_type": "stream",
     "text": [
      "Epoch 1\n",
      " ++++++++++++++++++++++++++++++++++++++++++++++++\n",
      "loss: 2.302954  [    0/60000]\n",
      "loss: 1.557730  [12800/60000]\n",
      "loss: 1.527623  [25600/60000]\n",
      "loss: 1.510439  [38400/60000]\n",
      "loss: 1.497124  [51200/60000]\n",
      "Test Error: \n",
      " Accuracy: 95.1%, Avg loss: 1.501901 \n",
      "\n",
      "Epoch 2\n",
      " ++++++++++++++++++++++++++++++++++++++++++++++++\n",
      "loss: 1.495260  [    0/60000]\n",
      "loss: 1.466637  [12800/60000]\n",
      "loss: 1.493652  [25600/60000]\n",
      "loss: 1.496328  [38400/60000]\n",
      "loss: 1.519226  [51200/60000]\n",
      "Test Error: \n",
      " Accuracy: 96.8%, Avg loss: 1.488569 \n",
      "\n",
      "Epoch 3\n",
      " ++++++++++++++++++++++++++++++++++++++++++++++++\n",
      "loss: 1.486113  [    0/60000]\n",
      "loss: 1.469841  [12800/60000]\n",
      "loss: 1.494673  [25600/60000]\n",
      "loss: 1.480494  [38400/60000]\n",
      "loss: 1.484564  [51200/60000]\n",
      "Test Error: \n",
      " Accuracy: 97.1%, Avg loss: 1.484647 \n",
      "\n",
      "Epoch 4\n",
      " ++++++++++++++++++++++++++++++++++++++++++++++++\n",
      "loss: 1.476008  [    0/60000]\n",
      "loss: 1.484533  [12800/60000]\n",
      "loss: 1.493695  [25600/60000]\n",
      "loss: 1.474375  [38400/60000]\n",
      "loss: 1.477496  [51200/60000]\n",
      "Test Error: \n",
      " Accuracy: 97.3%, Avg loss: 1.482900 \n",
      "\n",
      "Epoch 5\n",
      " ++++++++++++++++++++++++++++++++++++++++++++++++\n",
      "loss: 1.470822  [    0/60000]\n",
      "loss: 1.467798  [12800/60000]\n",
      "loss: 1.488848  [25600/60000]\n",
      "loss: 1.469249  [38400/60000]\n",
      "loss: 1.484046  [51200/60000]\n",
      "Test Error: \n",
      " Accuracy: 97.1%, Avg loss: 1.484150 \n",
      "\n",
      "Done!\n"
     ]
    }
   ],
   "source": [
    "model = model.to(device=DEVICE)\n",
    "\n",
    "for t in range(EPOCHS):\n",
    "    print(f\"Epoch {t+1}\\n ++++++++++++++++++++++++++++++++++++++++++++++++\")\n",
    "    train_loop(train_dl, model, loss_fn, optimizer)\n",
    "    test_loop(test_dl, model, loss_fn)\n",
    "print(\"Done!\")"
   ]
  },
  {
   "cell_type": "markdown",
   "metadata": {},
   "source": [
    "## Predicting classes\n",
    "- Using our trained model to predict "
   ]
  },
  {
   "cell_type": "code",
   "execution_count": 115,
   "metadata": {
    "scrolled": false
   },
   "outputs": [],
   "source": [
    "from PIL import Image\n",
    "import os\n",
    "import numpy as np\n",
    "import cv2\n",
    "\n",
    "#image = Image.open('./topredict.jpeg').convert(\"L\")\n",
    "images = {x.split(\".\")[0]:cv2.bitwise_not(cv2.cvtColor(np.array(Image.open( \"./to_predict/\" + x)), cv2.COLOR_BGR2GRAY)) for x in os.listdir(\"./to_predict\")}"
   ]
  },
  {
   "cell_type": "code",
   "execution_count": 116,
   "metadata": {},
   "outputs": [],
   "source": [
    "# https://pytorch.org/vision/stable/transforms.html\n",
    "transform = tf.Compose([\n",
    "    tf.ToTensor(),\n",
    "    tf.Resize((28,28))\n",
    "])\n",
    "\n",
    "transformed_images = {}\n",
    "\n",
    "for image in images.keys():\n",
    "    images[image] = cv2.resize(images[image], (28, 28))\n",
    "    transformed_images[image] = transform(images[image])\n",
    "\n",
    "#image_tensor = transform(image)\n",
    "#image_tensor.shape"
   ]
  },
  {
   "cell_type": "code",
   "execution_count": 117,
   "metadata": {},
   "outputs": [
    {
     "name": "stdout",
     "output_type": "stream",
     "text": [
      "Real \t:\t Pred\n",
      "\n",
      "THREE \t:\t 3\n",
      "SIX \t:\t 5\n",
      "TWO \t:\t 3\n",
      "FOUR \t:\t 8\n",
      "ZERO \t:\t 0\n",
      "EIGHT \t:\t 3\n",
      "FIVE \t:\t 3\n",
      "ONE \t:\t 8\n",
      "SEVEN \t:\t 3\n",
      "NINE \t:\t 8\n"
     ]
    }
   ],
   "source": [
    "import time\n",
    "\n",
    "print(\"Real\", \"\\t:\\t\", \"Pred\" + \"\\n\")\n",
    "for key, image_tensor in transformed_images.items():\n",
    "    image_tensor = image_tensor.resize(1, 1, 28, 28)\n",
    "    image_tensor = image_tensor.to(device=DEVICE)\n",
    "    pred = model(image_tensor)\n",
    "    print(key.upper(), \"\\t:\\t\", int(torch.argmax(pred)))"
   ]
  },
  {
   "cell_type": "code",
   "execution_count": null,
   "metadata": {},
   "outputs": [],
   "source": []
  }
 ],
 "metadata": {
  "kernelspec": {
   "display_name": "Python 3",
   "language": "python",
   "name": "python3"
  },
  "language_info": {
   "codemirror_mode": {
    "name": "ipython",
    "version": 3
   },
   "file_extension": ".py",
   "mimetype": "text/x-python",
   "name": "python",
   "nbconvert_exporter": "python",
   "pygments_lexer": "ipython3",
   "version": "3.8.5"
  }
 },
 "nbformat": 4,
 "nbformat_minor": 5
}
